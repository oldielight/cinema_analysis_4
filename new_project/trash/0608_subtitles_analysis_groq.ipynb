{
 "cells": [
  {
   "cell_type": "code",
   "execution_count": 1,
   "metadata": {},
   "outputs": [],
   "source": [
    "# 1. 필요 라이브러리 임포트\n",
    "import os\n",
    "import sys\n",
    "sys.path.append(os.path.abspath(\"../src\"))\n",
    "import pandas as pd\n",
    "import time\n",
    "import altair as alt\n",
    "import re\n",
    "import json\n",
    "\n",
    "# --- GROQ API 키 설정 ---\n",
    "import openai\n",
    "os.environ[\"GROQ_API_KEY\"] = \"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\"\n",
    "openai.api_key = os.getenv(\"GROQ_API_KEY\")\n",
    "openai.api_base = \"https://api.groq.com/openai/v1\""
   ]
  },
  {
   "cell_type": "code",
   "execution_count": 2,
   "metadata": {},
   "outputs": [],
   "source": [
    "emotion_valence = {\n",
    "    \"joy\": 1.00, \"love\": 0.95, \"affection\": 0.90, \"gratitude\": 0.88, \"excitement\": 0.85,\n",
    "    \"amusement\": 0.82, \"relief\": 0.80, \"pride\": 0.78, \"confidence\": 0.75, \"ambition\": 0.73,\n",
    "    \"protectiveness\": 0.70, \"determination\": 0.68, \"anticipation\": 0.65, \"respect\": 0.63,\n",
    "    \"curiosity\": 0.60, \"surprise\": 0.58, \"incredulity\": 0.55, \"authority\": 0.52,\n",
    "    \"calm\": 0.50, \"neutral\": 0.50, \"neutrality\": 0.50, \"seriousness\": 0.48,\n",
    "    \"caution\": 0.45, \"concern\": 0.42, \"nostalgia\": 0.40, \"awe\": 0.38,\n",
    "}"
   ]
  },
  {
   "cell_type": "code",
   "execution_count": 3,
   "metadata": {},
   "outputs": [],
   "source": [
    "def parse_srt_file(filepath):\n",
    "    import srt\n",
    "    with open(filepath, 'r', encoding='utf-8') as f:\n",
    "        srt_text = f.read()\n",
    "    subtitles = list(srt.parse(srt_text))\n",
    "    return [\n",
    "        {\n",
    "            \"id\": i + 1,\n",
    "            \"start\": sub.start.total_seconds(),\n",
    "            \"end\": sub.end.total_seconds(),\n",
    "            \"text\": sub.content.strip()\n",
    "        }\n",
    "        for i, sub in enumerate(subtitles)\n",
    "    ]"
   ]
  },
  {
   "cell_type": "code",
   "execution_count": 4,
   "metadata": {},
   "outputs": [],
   "source": [
    "def analyze_subtitle(text, emotion_valence, model=\"llama3-70b-8192\"):\n",
    "    emotion_labels = list(emotion_valence.keys())\n",
    "    prompt = f\"\"\"\n",
    "    You are an assistant analyzing movie dialogue.\n",
    "    You MUST select zero or more emotions from the following list ONLY:\n",
    "    {emotion_labels}\n",
    "    Return only a valid JSON in this format:\n",
    "    {{\n",
    "    \"emotions\": [ ... ], \n",
    "    \"situation\": \"short summary\", \n",
    "    \"situation_type\": \"category\"\n",
    "    }}\n",
    "    Text: \"{text}\"\n",
    "    \"\"\"\n",
    "    response = openai.ChatCompletion.create(\n",
    "        model=model,\n",
    "        messages=[{\"role\": \"user\", \"content\": prompt}],\n",
    "        temperature=0.7,\n",
    "    )\n",
    "    match = re.search(r\"\\{.*\\}\", response.choices[0].message.content, re.DOTALL)\n",
    "    if match:\n",
    "        try:\n",
    "            return json.loads(match.group())\n",
    "        except Exception as e:\n",
    "            print(f\"[!] JSON 파싱 실패: {e} | 원본 응답: {response.choices[0].message.content}\")\n",
    "    return {\"emotions\": [], \"situation\": \"unknown\", \"situation_type\": \"unknown\"}\n"
   ]
  },
  {
   "cell_type": "code",
   "execution_count": 7,
   "metadata": {},
   "outputs": [
    {
     "name": "stdout",
     "output_type": "stream",
     "text": [
      "[!] JSON 파싱 실패: Invalid control character at: line 3 column 59 (char 99) | 원본 응답: {\n",
      "\"emotions\": [\"concern\", \"authority\"], \n",
      "\"situation\": \"Someone is telling someone else to go back, \n",
      "\"situation_type\": \"command\"\n",
      "}\n",
      "자막 감정 분석 저장 완료!\n"
     ]
    }
   ],
   "source": [
    "SAMPLE_START = 4206  # 예시: 1시간 10분 6초\n",
    "SAMPLE_END = 4530    # 예시: 1시간 15분 30초\n",
    "# 1. 자막 로드\n",
    "srt_path = \"../data/raw/Ran.1985.eng.srt\"\n",
    "subs = parse_srt_file(srt_path)\n",
    "\n",
    "subs = [sub for sub in subs if (sub[\"start\"] >= SAMPLE_START) and (sub[\"start\"] <= SAMPLE_END)]\n",
    "\n",
    "# 2. 감정/상황 태깅\n",
    "labeled = []\n",
    "for sub in subs:\n",
    "    res = analyze_subtitle(sub[\"text\"], emotion_valence)\n",
    "    sub.update(res)\n",
    "    labeled.append(sub)\n",
    "    time.sleep(2.1)  # Groq API 제한\n",
    "\n",
    "subs_df = pd.DataFrame(labeled)\n",
    "subs_df.to_json(\"../data/processed/ran_llm_enriched.json\", force_ascii=False, indent=2)\n",
    "subs_df.to_csv(\"../data/processed/ran_llm_enriched.csv\", index=False)\n",
    "print(\"자막 감정 분석 저장 완료!\")"
   ]
  },
  {
   "cell_type": "code",
   "execution_count": 8,
   "metadata": {},
   "outputs": [],
   "source": [
    "def calc_valence(emotions):\n",
    "    if not emotions:\n",
    "        return 0.5\n",
    "    scores = [emotion_valence.get(e.lower(), 0.5) for e in emotions]\n",
    "    return sum(scores) / len(scores)\n",
    "\n",
    "subs_df[\"valence\"] = subs_df[\"emotions\"].apply(calc_valence)"
   ]
  },
  {
   "cell_type": "code",
   "execution_count": 9,
   "metadata": {},
   "outputs": [
    {
     "data": {
      "text/html": [
       "\n",
       "<style>\n",
       "  #altair-viz-1a2c06be90b34cdea5f20bf0a7b0504f.vega-embed {\n",
       "    width: 100%;\n",
       "    display: flex;\n",
       "  }\n",
       "\n",
       "  #altair-viz-1a2c06be90b34cdea5f20bf0a7b0504f.vega-embed details,\n",
       "  #altair-viz-1a2c06be90b34cdea5f20bf0a7b0504f.vega-embed details summary {\n",
       "    position: relative;\n",
       "  }\n",
       "</style>\n",
       "<div id=\"altair-viz-1a2c06be90b34cdea5f20bf0a7b0504f\"></div>\n",
       "<script type=\"text/javascript\">\n",
       "  var VEGA_DEBUG = (typeof VEGA_DEBUG == \"undefined\") ? {} : VEGA_DEBUG;\n",
       "  (function(spec, embedOpt){\n",
       "    let outputDiv = document.currentScript.previousElementSibling;\n",
       "    if (outputDiv.id !== \"altair-viz-1a2c06be90b34cdea5f20bf0a7b0504f\") {\n",
       "      outputDiv = document.getElementById(\"altair-viz-1a2c06be90b34cdea5f20bf0a7b0504f\");\n",
       "    }\n",
       "\n",
       "    const paths = {\n",
       "      \"vega\": \"https://cdn.jsdelivr.net/npm/vega@5?noext\",\n",
       "      \"vega-lib\": \"https://cdn.jsdelivr.net/npm/vega-lib?noext\",\n",
       "      \"vega-lite\": \"https://cdn.jsdelivr.net/npm/vega-lite@5.20.1?noext\",\n",
       "      \"vega-embed\": \"https://cdn.jsdelivr.net/npm/vega-embed@6?noext\",\n",
       "    };\n",
       "\n",
       "    function maybeLoadScript(lib, version) {\n",
       "      var key = `${lib.replace(\"-\", \"\")}_version`;\n",
       "      return (VEGA_DEBUG[key] == version) ?\n",
       "        Promise.resolve(paths[lib]) :\n",
       "        new Promise(function(resolve, reject) {\n",
       "          var s = document.createElement('script');\n",
       "          document.getElementsByTagName(\"head\")[0].appendChild(s);\n",
       "          s.async = true;\n",
       "          s.onload = () => {\n",
       "            VEGA_DEBUG[key] = version;\n",
       "            return resolve(paths[lib]);\n",
       "          };\n",
       "          s.onerror = () => reject(`Error loading script: ${paths[lib]}`);\n",
       "          s.src = paths[lib];\n",
       "        });\n",
       "    }\n",
       "\n",
       "    function showError(err) {\n",
       "      outputDiv.innerHTML = `<div class=\"error\" style=\"color:red;\">${err}</div>`;\n",
       "      throw err;\n",
       "    }\n",
       "\n",
       "    function displayChart(vegaEmbed) {\n",
       "      vegaEmbed(outputDiv, spec, embedOpt)\n",
       "        .catch(err => showError(`Javascript Error: ${err.message}<br>This usually means there's a typo in your chart specification. See the javascript console for the full traceback.`));\n",
       "    }\n",
       "\n",
       "    if(typeof define === \"function\" && define.amd) {\n",
       "      requirejs.config({paths});\n",
       "      let deps = [\"vega-embed\"];\n",
       "      require(deps, displayChart, err => showError(`Error loading script: ${err.message}`));\n",
       "    } else {\n",
       "      maybeLoadScript(\"vega\", \"5\")\n",
       "        .then(() => maybeLoadScript(\"vega-lite\", \"5.20.1\"))\n",
       "        .then(() => maybeLoadScript(\"vega-embed\", \"6\"))\n",
       "        .catch(showError)\n",
       "        .then(() => displayChart(vegaEmbed));\n",
       "    }\n",
       "  })({\"config\": {\"view\": {\"continuousWidth\": 300, \"continuousHeight\": 300}}, \"data\": {\"name\": \"data-9160d2153b5a01d75ed15a1e6bce0e84\"}, \"mark\": {\"type\": \"circle\", \"opacity\": 0.8, \"size\": 70}, \"encoding\": {\"color\": {\"field\": \"valence\", \"scale\": {\"scheme\": \"turbo\"}, \"type\": \"quantitative\"}, \"tooltip\": [{\"field\": \"id\", \"type\": \"quantitative\"}, {\"field\": \"text\", \"type\": \"nominal\"}, {\"field\": \"emotions\", \"type\": \"nominal\"}, {\"field\": \"valence\", \"type\": \"quantitative\"}, {\"field\": \"situation\", \"type\": \"nominal\"}, {\"field\": \"situation_type\", \"type\": \"nominal\"}], \"x\": {\"field\": \"start\", \"title\": \"Time (s)\", \"type\": \"quantitative\"}, \"y\": {\"field\": \"valence\", \"scale\": {\"domain\": [0, 1]}, \"title\": \"Emotion Valence\", \"type\": \"quantitative\"}}, \"height\": 350, \"params\": [{\"name\": \"param_1\", \"select\": {\"type\": \"interval\", \"encodings\": [\"x\", \"y\"]}, \"bind\": \"scales\"}], \"title\": \"Subtitle Emotion Timeline (No Scene)\", \"width\": 850, \"$schema\": \"https://vega.github.io/schema/vega-lite/v5.20.1.json\", \"datasets\": {\"data-9160d2153b5a01d75ed15a1e6bce0e84\": [{\"id\": 629, \"start\": 4288.997, \"end\": 4290.375, \"text\": \"Go back!\", \"emotions\": [], \"situation\": \"unknown\", \"situation_type\": \"unknown\", \"valence\": 0.5}, {\"id\": 630, \"start\": 4475.142, \"end\": 4476.566, \"text\": \"Lord Jiro!\", \"emotions\": [\"respect\", \"authority\"], \"situation\": \"Addressing a superior or someone of high rank\", \"situation_type\": \"Formal greeting\", \"valence\": 0.575}, {\"id\": 631, \"start\": 4477.728, \"end\": 4480.233, \"text\": \"The die is cast; do not falter.\", \"emotions\": [\"determination\", \"authority\"], \"situation\": \"A leader gives a decisive order\", \"situation_type\": \"Command\", \"valence\": 0.6000000000000001}, {\"id\": 632, \"start\": 4480.397, \"end\": 4482.903, \"text\": \"You chose this path, follow it.\", \"emotions\": [\"determination\"], \"situation\": \"A character is encouraging another to continue on their chosen path\", \"situation_type\": \"Motivational\", \"valence\": 0.68}, {\"id\": 633, \"start\": 4483.651, \"end\": 4486.624, \"text\": \"It leads to absolute rulership.\", \"emotions\": [\"authority\"], \"situation\": \"A statement about the consequences of a particular action\", \"situation_type\": \"Politics\", \"valence\": 0.52}, {\"id\": 634, \"start\": 4486.779, \"end\": 4489.581, \"text\": \"You can no longer turn back.\", \"emotions\": [\"caution\", \"seriousness\"], \"situation\": \"A point of no return has been reached\", \"situation_type\": \"Warning\", \"valence\": 0.46499999999999997}]}}, {\"mode\": \"vega-lite\"});\n",
       "</script>"
      ],
      "text/plain": [
       "alt.Chart(...)"
      ]
     },
     "metadata": {},
     "output_type": "display_data"
    }
   ],
   "source": [
    "chart = alt.Chart(subs_df).mark_circle(size=70, opacity=0.8).encode(\n",
    "    x=alt.X('start', title='Time (s)'),\n",
    "    y=alt.Y('valence', title='Emotion Valence', scale=alt.Scale(domain=[0,1])),\n",
    "    color=alt.Color('valence:Q', scale=alt.Scale(scheme='turbo')),\n",
    "    tooltip=['id','text','emotions','valence','situation','situation_type']\n",
    ").properties(width=850, height=350, title=\"Subtitle Emotion Timeline (No Scene)\")\n",
    "\n",
    "chart.interactive().show()"
   ]
  }
 ],
 "metadata": {
  "kernelspec": {
   "display_name": "p5_env",
   "language": "python",
   "name": "python3"
  },
  "language_info": {
   "codemirror_mode": {
    "name": "ipython",
    "version": 3
   },
   "file_extension": ".py",
   "mimetype": "text/x-python",
   "name": "python",
   "nbconvert_exporter": "python",
   "pygments_lexer": "ipython3",
   "version": "3.9.21"
  }
 },
 "nbformat": 4,
 "nbformat_minor": 2
}
